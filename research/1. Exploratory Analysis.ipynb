{
 "cells": [
  {
   "cell_type": "markdown",
   "metadata": {
    "deletable": true,
    "editable": true
   },
   "source": [
    "# 1. Exploratory Analysis \n",
    "Author: Philip Kalinda"
   ]
  },
  {
   "cell_type": "markdown",
   "metadata": {
    "deletable": true,
    "editable": true
   },
   "source": [
    "## Summary"
   ]
  },
  {
   "cell_type": "markdown",
   "metadata": {
    "deletable": true,
    "editable": true
   },
   "source": [
    "This Notebook is to explore the data and get a feel for the data.\n",
    "\n",
    "This will help in the development of ideas on how we can explore the data beyond traditional business intelligence.\n",
    "\n",
    "These ideas will form the hypotheses which we then explore with the use of Data science, leveraging statistics and machine learning.\n",
    "\n",
    "The findings of the analysis will be further analysed in order to form value-adding strategies."
   ]
  },
  {
   "cell_type": "code",
   "execution_count": 1,
   "metadata": {
    "collapsed": false,
    "deletable": true,
    "editable": true
   },
   "outputs": [],
   "source": [
    "import pandas as pd\n",
    "import matplotlib.pyplot as plt\n",
    "import seaborn as sns\n",
    "\n",
    "# settings\n",
    "sns.set_style('whitegrid')\n",
    "sainsburysColors = ['#EC5D24','#93134A','#F7F5E8','#2B2C30','#336E7B','#F2931A']\n",
    "sns.set_palette(sainsburysColors)\n",
    "%matplotlib inline\n",
    "pd.options.mode.chained_assignment = None\n",
    "pd.set_option('display.max_columns', 1000)\n",
    "pd.set_option('display.max_rows', 60)\n",
    "pd.set_option(\"display.latex.repr\", True)"
   ]
  },
  {
   "cell_type": "code",
   "execution_count": 2,
   "metadata": {
    "collapsed": false,
    "deletable": true,
    "editable": true
   },
   "outputs": [
    {
     "data": {
      "image/png": "[encoded data removed]",
      "text/plain": [
       "<matplotlib.figure.Figure at 0x106b673c8>"
      ]
     },
     "metadata": {},
     "output_type": "display_data"
    }
   ],
   "source": [
    "sns.palplot(sainsburysColors) # Stay on brand"
   ]
  },
  {
   "cell_type": "code",
   "execution_count": 3,
   "metadata": {
    "collapsed": false,
    "deletable": true,
    "editable": true
   },
   "outputs": [],
   "source": [
    "# raw data\n",
    "data = pd.read_csv('CustomerData.csv')"
   ]
  },
  {
   "cell_type": "markdown",
   "metadata": {
    "deletable": true,
    "editable": true
   },
   "source": [
    "## 1.2 Explore"
   ]
  },
  {
   "cell_type": "markdown",
   "metadata": {
    "deletable": true,
    "editable": true
   },
   "source": [
    "### 1.2.1 Descriptive"
   ]
  },
  {
   "cell_type": "code",
   "execution_count": 4,
   "metadata": {
    "collapsed": false,
    "deletable": true,
    "editable": true,
    "scrolled": true
   },
   "outputs": [
    {
     "name": "stdout",
     "output_type": "stream",
     "text": [
      "Number of Rows: 120767\n",
      "Number Of Features: 7 \n"
     ]
    }
   ],
   "source": [
    "print(\"Number of Rows: {}\\nNumber Of Features: {} \".format(\n",
    "    data.shape[0],\n",
    "    data.shape[1]))"
   ]
  },
  {
   "cell_type": "code",
   "execution_count": 5,
   "metadata": {
    "collapsed": false,
    "deletable": true,
    "editable": true
   },
   "outputs": [
    {
     "name": "stdout",
     "output_type": "stream",
     "text": [
      "<class 'pandas.core.frame.DataFrame'>\n",
      "RangeIndex: 120767 entries, 0 to 120766\n",
      "Data columns (total 7 columns):\n",
      "shoppingOrder     120767 non-null int64\n",
      "channel           120767 non-null object\n",
      "quantity          120767 non-null int64\n",
      "customerID        120767 non-null object\n",
      "weekdayInteger    120767 non-null int64\n",
      "productID         120767 non-null object\n",
      "storeID           120767 non-null object\n",
      "dtypes: int64(3), object(4)\n",
      "memory usage: 6.4+ MB\n"
     ]
    }
   ],
   "source": [
    "data.info()"
   ]
  },
  {
   "cell_type": "code",
   "execution_count": 6,
   "metadata": {
    "collapsed": false,
    "deletable": true,
    "editable": true
   },
   "outputs": [
    {
     "data": {
      "text/html": [
       "<div>\n",
       "<table border=\"1\" class=\"dataframe\">\n",
       "  <thead>\n",
       "    <tr style=\"text-align: right;\">\n",
       "      <th></th>\n",
       "      <th>shoppingOrder</th>\n",
       "      <th>channel</th>\n",
       "      <th>quantity</th>\n",
       "      <th>customerID</th>\n",
       "      <th>weekdayInteger</th>\n",
       "      <th>productID</th>\n",
       "      <th>storeID</th>\n",
       "    </tr>\n",
       "  </thead>\n",
       "  <tbody>\n",
       "    <tr>\n",
       "      <th>0</th>\n",
       "      <td>3</td>\n",
       "      <td>STR</td>\n",
       "      <td>2</td>\n",
       "      <td>b750f55d85bdac831175b4ece10033550c973e82503694...</td>\n",
       "      <td>4</td>\n",
       "      <td>086f5af48d6f7fac1357083454e346d2df02c5156241ee...</td>\n",
       "      <td>c5422e8ad47366dc4a45968054a9629c875482a22c2f42...</td>\n",
       "    </tr>\n",
       "    <tr>\n",
       "      <th>1</th>\n",
       "      <td>3</td>\n",
       "      <td>STR</td>\n",
       "      <td>1</td>\n",
       "      <td>b750f55d85bdac831175b4ece10033550c973e82503694...</td>\n",
       "      <td>4</td>\n",
       "      <td>8981a704b6bbaa5905426856431e9982ea7d8b3e16a0d7...</td>\n",
       "      <td>8b5b99fba4cb7bdb35a45b23d121c4442acaa8a6acaf42...</td>\n",
       "    </tr>\n",
       "    <tr>\n",
       "      <th>2</th>\n",
       "      <td>3</td>\n",
       "      <td>STR</td>\n",
       "      <td>1</td>\n",
       "      <td>b750f55d85bdac831175b4ece10033550c973e82503694...</td>\n",
       "      <td>4</td>\n",
       "      <td>f2a050cc4c05b21e18bfb12d83bc35a024a8ef3421b973...</td>\n",
       "      <td>8b5b99fba4cb7bdb35a45b23d121c4442acaa8a6acaf42...</td>\n",
       "    </tr>\n",
       "    <tr>\n",
       "      <th>3</th>\n",
       "      <td>5</td>\n",
       "      <td>STR</td>\n",
       "      <td>1</td>\n",
       "      <td>b750f55d85bdac831175b4ece10033550c973e82503694...</td>\n",
       "      <td>1</td>\n",
       "      <td>ff7e584322603a95a820eef0c56d1da0bbf4b869b4e2d5...</td>\n",
       "      <td>a9661b8084a8e44309e042f2638be7582dd9480fddb708...</td>\n",
       "    </tr>\n",
       "    <tr>\n",
       "      <th>4</th>\n",
       "      <td>5</td>\n",
       "      <td>STR</td>\n",
       "      <td>1</td>\n",
       "      <td>b750f55d85bdac831175b4ece10033550c973e82503694...</td>\n",
       "      <td>1</td>\n",
       "      <td>37686ea91f4b4002c080da122d40a693271c753ca63d7e...</td>\n",
       "      <td>a9661b8084a8e44309e042f2638be7582dd9480fddb708...</td>\n",
       "    </tr>\n",
       "  </tbody>\n",
       "</table>\n",
       "</div>"
      ],
      "text/latex": [
       "\\begin{tabular}{lrlrlrll}\n",
       "\\toprule\n",
       "{} &  shoppingOrder & channel &  quantity &                                         customerID &  weekdayInteger &                                          productID &                                            storeID \\\\\n",
       "\\midrule\n",
       "0 &              3 &     STR &         2 &  b750f55d85bdac831175b4ece10033550c973e82503694... &               4 &  086f5af48d6f7fac1357083454e346d2df02c5156241ee... &  c5422e8ad47366dc4a45968054a9629c875482a22c2f42... \\\\\n",
       "1 &              3 &     STR &         1 &  b750f55d85bdac831175b4ece10033550c973e82503694... &               4 &  8981a704b6bbaa5905426856431e9982ea7d8b3e16a0d7... &  8b5b99fba4cb7bdb35a45b23d121c4442acaa8a6acaf42... \\\\\n",
       "2 &              3 &     STR &         1 &  b750f55d85bdac831175b4ece10033550c973e82503694... &               4 &  f2a050cc4c05b21e18bfb12d83bc35a024a8ef3421b973... &  8b5b99fba4cb7bdb35a45b23d121c4442acaa8a6acaf42... \\\\\n",
       "3 &              5 &     STR &         1 &  b750f55d85bdac831175b4ece10033550c973e82503694... &               1 &  ff7e584322603a95a820eef0c56d1da0bbf4b869b4e2d5... &  a9661b8084a8e44309e042f2638be7582dd9480fddb708... \\\\\n",
       "4 &              5 &     STR &         1 &  b750f55d85bdac831175b4ece10033550c973e82503694... &               1 &  37686ea91f4b4002c080da122d40a693271c753ca63d7e... &  a9661b8084a8e44309e042f2638be7582dd9480fddb708... \\\\\n",
       "\\bottomrule\n",
       "\\end{tabular}\n"
      ],
      "text/plain": [
       "   shoppingOrder channel  quantity  \\\n",
       "0              3     STR         2   \n",
       "1              3     STR         1   \n",
       "2              3     STR         1   \n",
       "3              5     STR         1   \n",
       "4              5     STR         1   \n",
       "\n",
       "                                          customerID  weekdayInteger  \\\n",
       "0  b750f55d85bdac831175b4ece10033550c973e82503694...               4   \n",
       "1  b750f55d85bdac831175b4ece10033550c973e82503694...               4   \n",
       "2  b750f55d85bdac831175b4ece10033550c973e82503694...               4   \n",
       "3  b750f55d85bdac831175b4ece10033550c973e82503694...               1   \n",
       "4  b750f55d85bdac831175b4ece10033550c973e82503694...               1   \n",
       "\n",
       "                                           productID  \\\n",
       "0  086f5af48d6f7fac1357083454e346d2df02c5156241ee...   \n",
       "1  8981a704b6bbaa5905426856431e9982ea7d8b3e16a0d7...   \n",
       "2  f2a050cc4c05b21e18bfb12d83bc35a024a8ef3421b973...   \n",
       "3  ff7e584322603a95a820eef0c56d1da0bbf4b869b4e2d5...   \n",
       "4  37686ea91f4b4002c080da122d40a693271c753ca63d7e...   \n",
       "\n",
       "                                             storeID  \n",
       "0  c5422e8ad47366dc4a45968054a9629c875482a22c2f42...  \n",
       "1  8b5b99fba4cb7bdb35a45b23d121c4442acaa8a6acaf42...  \n",
       "2  8b5b99fba4cb7bdb35a45b23d121c4442acaa8a6acaf42...  \n",
       "3  a9661b8084a8e44309e042f2638be7582dd9480fddb708...  \n",
       "4  a9661b8084a8e44309e042f2638be7582dd9480fddb708...  "
      ]
     },
     "execution_count": 6,
     "metadata": {},
     "output_type": "execute_result"
    }
   ],
   "source": [
    "data.head()"
   ]
  },
  {
   "cell_type": "markdown",
   "metadata": {
    "deletable": true,
    "editable": true
   },
   "source": [
    "Here we can see that each row is of data is specific to the product purchased and the order number. Each row contains data relating to the product purchased partitioned by the shopping order, eg. the order number, channel, quantity, customer, weekday and store that that particular product was purchased. This means that if a productID appears multiple times under the same customer id, it is from a different order, and if the product appears multiple times with the same shopping order, it is likely to be a different customer who happened to purchase that item in their shopping order."
   ]
  },
  {
   "cell_type": "code",
   "execution_count": 7,
   "metadata": {
    "collapsed": false,
    "deletable": true,
    "editable": true,
    "scrolled": false
   },
   "outputs": [
    {
     "data": {
      "text/html": [
       "<div>\n",
       "<table border=\"1\" class=\"dataframe\">\n",
       "  <thead>\n",
       "    <tr style=\"text-align: right;\">\n",
       "      <th></th>\n",
       "      <th>shoppingOrder</th>\n",
       "      <th>channel</th>\n",
       "      <th>quantity</th>\n",
       "      <th>customerID</th>\n",
       "      <th>weekdayInteger</th>\n",
       "      <th>productID</th>\n",
       "      <th>storeID</th>\n",
       "    </tr>\n",
       "  </thead>\n",
       "  <tbody>\n",
       "    <tr>\n",
       "      <th>count</th>\n",
       "      <td>120767.000000</td>\n",
       "      <td>120767</td>\n",
       "      <td>120767.000000</td>\n",
       "      <td>120767</td>\n",
       "      <td>120767.000000</td>\n",
       "      <td>120767</td>\n",
       "      <td>120767</td>\n",
       "    </tr>\n",
       "    <tr>\n",
       "      <th>unique</th>\n",
       "      <td>NaN</td>\n",
       "      <td>2</td>\n",
       "      <td>NaN</td>\n",
       "      <td>1000</td>\n",
       "      <td>NaN</td>\n",
       "      <td>17368</td>\n",
       "      <td>277</td>\n",
       "    </tr>\n",
       "    <tr>\n",
       "      <th>top</th>\n",
       "      <td>NaN</td>\n",
       "      <td>STR</td>\n",
       "      <td>NaN</td>\n",
       "      <td>e3f888be4e84ded301555dcf7447793e456c3cc8e1110f...</td>\n",
       "      <td>NaN</td>\n",
       "      <td>b2ba2185b1b07a4f60816d81a868a7d7cd176088b6e1a7...</td>\n",
       "      <td>66d0f07d67e0b9708bb6031797cdd5a96c01fa567f2b10...</td>\n",
       "    </tr>\n",
       "    <tr>\n",
       "      <th>freq</th>\n",
       "      <td>NaN</td>\n",
       "      <td>108904</td>\n",
       "      <td>NaN</td>\n",
       "      <td>612</td>\n",
       "      <td>NaN</td>\n",
       "      <td>1259</td>\n",
       "      <td>33202</td>\n",
       "    </tr>\n",
       "    <tr>\n",
       "      <th>mean</th>\n",
       "      <td>8.019235</td>\n",
       "      <td>NaN</td>\n",
       "      <td>1.176820</td>\n",
       "      <td>NaN</td>\n",
       "      <td>3.339546</td>\n",
       "      <td>NaN</td>\n",
       "      <td>NaN</td>\n",
       "    </tr>\n",
       "    <tr>\n",
       "      <th>std</th>\n",
       "      <td>6.961022</td>\n",
       "      <td>NaN</td>\n",
       "      <td>0.670694</td>\n",
       "      <td>NaN</td>\n",
       "      <td>1.995292</td>\n",
       "      <td>NaN</td>\n",
       "      <td>NaN</td>\n",
       "    </tr>\n",
       "    <tr>\n",
       "      <th>min</th>\n",
       "      <td>1.000000</td>\n",
       "      <td>NaN</td>\n",
       "      <td>-13.000000</td>\n",
       "      <td>NaN</td>\n",
       "      <td>0.000000</td>\n",
       "      <td>NaN</td>\n",
       "      <td>NaN</td>\n",
       "    </tr>\n",
       "    <tr>\n",
       "      <th>25%</th>\n",
       "      <td>3.000000</td>\n",
       "      <td>NaN</td>\n",
       "      <td>1.000000</td>\n",
       "      <td>NaN</td>\n",
       "      <td>2.000000</td>\n",
       "      <td>NaN</td>\n",
       "      <td>NaN</td>\n",
       "    </tr>\n",
       "    <tr>\n",
       "      <th>50%</th>\n",
       "      <td>6.000000</td>\n",
       "      <td>NaN</td>\n",
       "      <td>1.000000</td>\n",
       "      <td>NaN</td>\n",
       "      <td>4.000000</td>\n",
       "      <td>NaN</td>\n",
       "      <td>NaN</td>\n",
       "    </tr>\n",
       "    <tr>\n",
       "      <th>75%</th>\n",
       "      <td>11.000000</td>\n",
       "      <td>NaN</td>\n",
       "      <td>1.000000</td>\n",
       "      <td>NaN</td>\n",
       "      <td>5.000000</td>\n",
       "      <td>NaN</td>\n",
       "      <td>NaN</td>\n",
       "    </tr>\n",
       "    <tr>\n",
       "      <th>max</th>\n",
       "      <td>58.000000</td>\n",
       "      <td>NaN</td>\n",
       "      <td>48.000000</td>\n",
       "      <td>NaN</td>\n",
       "      <td>6.000000</td>\n",
       "      <td>NaN</td>\n",
       "      <td>NaN</td>\n",
       "    </tr>\n",
       "  </tbody>\n",
       "</table>\n",
       "</div>"
      ],
      "text/latex": [
       "\\begin{tabular}{lrlrlrll}\n",
       "\\toprule\n",
       "{} &  shoppingOrder & channel &       quantity &                                         customerID &  weekdayInteger &                                          productID &                                            storeID \\\\\n",
       "\\midrule\n",
       "count  &  120767.000000 &  120767 &  120767.000000 &                                             120767 &   120767.000000 &                                             120767 &                                             120767 \\\\\n",
       "unique &            NaN &       2 &            NaN &                                               1000 &             NaN &                                              17368 &                                                277 \\\\\n",
       "top    &            NaN &     STR &            NaN &  e3f888be4e84ded301555dcf7447793e456c3cc8e1110f... &             NaN &  b2ba2185b1b07a4f60816d81a868a7d7cd176088b6e1a7... &  66d0f07d67e0b9708bb6031797cdd5a96c01fa567f2b10... \\\\\n",
       "freq   &            NaN &  108904 &            NaN &                                                612 &             NaN &                                               1259 &                                              33202 \\\\\n",
       "mean   &       8.019235 &     NaN &       1.176820 &                                                NaN &        3.339546 &                                                NaN &                                                NaN \\\\\n",
       "std    &       6.961022 &     NaN &       0.670694 &                                                NaN &        1.995292 &                                                NaN &                                                NaN \\\\\n",
       "min    &       1.000000 &     NaN &     -13.000000 &                                                NaN &        0.000000 &                                                NaN &                                                NaN \\\\\n",
       "25\\%    &       3.000000 &     NaN &       1.000000 &                                                NaN &        2.000000 &                                                NaN &                                                NaN \\\\\n",
       "50\\%    &       6.000000 &     NaN &       1.000000 &                                                NaN &        4.000000 &                                                NaN &                                                NaN \\\\\n",
       "75\\%    &      11.000000 &     NaN &       1.000000 &                                                NaN &        5.000000 &                                                NaN &                                                NaN \\\\\n",
       "max    &      58.000000 &     NaN &      48.000000 &                                                NaN &        6.000000 &                                                NaN &                                                NaN \\\\\n",
       "\\bottomrule\n",
       "\\end{tabular}\n"
      ],
      "text/plain": [
       "        shoppingOrder channel       quantity  \\\n",
       "count   120767.000000  120767  120767.000000   \n",
       "unique            NaN       2            NaN   \n",
       "top               NaN     STR            NaN   \n",
       "freq              NaN  108904            NaN   \n",
       "mean         8.019235     NaN       1.176820   \n",
       "std          6.961022     NaN       0.670694   \n",
       "min          1.000000     NaN     -13.000000   \n",
       "25%          3.000000     NaN       1.000000   \n",
       "50%          6.000000     NaN       1.000000   \n",
       "75%         11.000000     NaN       1.000000   \n",
       "max         58.000000     NaN      48.000000   \n",
       "\n",
       "                                               customerID  weekdayInteger  \\\n",
       "count                                              120767   120767.000000   \n",
       "unique                                               1000             NaN   \n",
       "top     e3f888be4e84ded301555dcf7447793e456c3cc8e1110f...             NaN   \n",
       "freq                                                  612             NaN   \n",
       "mean                                                  NaN        3.339546   \n",
       "std                                                   NaN        1.995292   \n",
       "min                                                   NaN        0.000000   \n",
       "25%                                                   NaN        2.000000   \n",
       "50%                                                   NaN        4.000000   \n",
       "75%                                                   NaN        5.000000   \n",
       "max                                                   NaN        6.000000   \n",
       "\n",
       "                                                productID  \\\n",
       "count                                              120767   \n",
       "unique                                              17368   \n",
       "top     b2ba2185b1b07a4f60816d81a868a7d7cd176088b6e1a7...   \n",
       "freq                                                 1259   \n",
       "mean                                                  NaN   \n",
       "std                                                   NaN   \n",
       "min                                                   NaN   \n",
       "25%                                                   NaN   \n",
       "50%                                                   NaN   \n",
       "75%                                                   NaN   \n",
       "max                                                   NaN   \n",
       "\n",
       "                                                  storeID  \n",
       "count                                              120767  \n",
       "unique                                                277  \n",
       "top     66d0f07d67e0b9708bb6031797cdd5a96c01fa567f2b10...  \n",
       "freq                                                33202  \n",
       "mean                                                  NaN  \n",
       "std                                                   NaN  \n",
       "min                                                   NaN  \n",
       "25%                                                   NaN  \n",
       "50%                                                   NaN  \n",
       "75%                                                   NaN  \n",
       "max                                                   NaN  "
      ]
     },
     "execution_count": 7,
     "metadata": {},
     "output_type": "execute_result"
    }
   ],
   "source": [
    "data.describe(include='all')"
   ]
  },
  {
   "cell_type": "code",
   "execution_count": 8,
   "metadata": {
    "collapsed": false,
    "deletable": true,
    "editable": true
   },
   "outputs": [
    {
     "name": "stdout",
     "output_type": "stream",
     "text": [
      "Shopping Order's Max Value stds:  56.85 stds\n",
      "Quantity's Max Value stds:  46.25 stds\n"
     ]
    }
   ],
   "source": [
    "print(\"Shopping Order's Max Value stds: \",\n",
    "      round(data.shoppingOrder.max() - data.shoppingOrder.mean() / data.shoppingOrder.std(),2),\n",
    "      'stds')\n",
    "print(\"Quantity's Max Value stds: \",\n",
    "      round(data.quantity.max() - data.quantity.mean() / data.quantity.std(),2), \n",
    "      'stds')"
   ]
  },
  {
   "cell_type": "markdown",
   "metadata": {
    "deletable": true,
    "editable": true
   },
   "source": [
    "Firstly, we can see that there are no null values, so we will not have to worry about imputing or removing data to create a full dataset\n",
    "\n",
    "Here we can already see that shoppingOrder and quantity have extremely high max values. This could indicate that the data is skewed, especially since they are beyond 40 standard deviations from the mean.\n",
    "\n",
    "We can also see that quantity has negative values. With no way to verify whether this is bad data or not, we will make an assumption that these are refunded items within the order. "
   ]
  },
  {
   "cell_type": "markdown",
   "metadata": {
    "deletable": true,
    "editable": true
   },
   "source": [
    "Here we can also see that there are 1000 customers, 17368 different products, 277 different stores, and 2 channels."
   ]
  },
  {
   "cell_type": "markdown",
   "metadata": {
    "deletable": true,
    "editable": true
   },
   "source": [
    "### 1.2.2 Popular Products"
   ]
  },
  {
   "cell_type": "code",
   "execution_count": 9,
   "metadata": {
    "collapsed": false,
    "deletable": true,
    "editable": true,
    "scrolled": false
   },
   "outputs": [
    {
     "data": {
      "text/plain": [
       "b2ba2185b1b07a4f60816d81a868a7d7cd176088b6e1a789e409e39543a8550a    1259\n",
       "5b1c832b259948b35fa18c6b22bd118dd45f08749b00d90efd9d250d22eb66cb    1129\n",
       "f2a050cc4c05b21e18bfb12d83bc35a024a8ef3421b973b5ffb972d819640ed0     914\n",
       "8981a704b6bbaa5905426856431e9982ea7d8b3e16a0d72e29559083b5ac3a47     899\n",
       "e22967eef7d091fe5475af59c458053b9af34d93c11784201f44187c8d65b30d     703\n",
       "Name: productID, dtype: int64"
      ]
     },
     "execution_count": 9,
     "metadata": {},
     "output_type": "execute_result"
    }
   ],
   "source": [
    "data.productID.value_counts().head()"
   ]
  },
  {
   "cell_type": "markdown",
   "metadata": {
    "deletable": true,
    "editable": true
   },
   "source": [
    "Here we can see that these productIDs are the most popular items within orders."
   ]
  },
  {
   "cell_type": "code",
   "execution_count": 10,
   "metadata": {
    "collapsed": false,
    "deletable": true,
    "editable": true
   },
   "outputs": [
    {
     "data": {
      "text/plain": [
       "productID\n",
       "5b1c832b259948b35fa18c6b22bd118dd45f08749b00d90efd9d250d22eb66cb    1609\n",
       "b2ba2185b1b07a4f60816d81a868a7d7cd176088b6e1a789e409e39543a8550a    1295\n",
       "f2a050cc4c05b21e18bfb12d83bc35a024a8ef3421b973b5ffb972d819640ed0     914\n",
       "8981a704b6bbaa5905426856431e9982ea7d8b3e16a0d72e29559083b5ac3a47     900\n",
       "526f666244e147c6b6c1937ce42bd727f298db5ace9fc8a4c8d792fb8c717fd2     767\n",
       "Name: quantity, dtype: int64"
      ]
     },
     "execution_count": 10,
     "metadata": {},
     "output_type": "execute_result"
    }
   ],
   "source": [
    "data.groupby(by='productID').sum().sort_values(\n",
    "    'quantity',\n",
    "    ascending=False).quantity.head()"
   ]
  },
  {
   "cell_type": "markdown",
   "metadata": {
    "deletable": true,
    "editable": true
   },
   "source": [
    "Here we can see that these productIDs are the most purchased items with regards to quantity purchased."
   ]
  },
  {
   "cell_type": "markdown",
   "metadata": {
    "deletable": true,
    "editable": true
   },
   "source": [
    "### 1.2.3 Customer Grouping"
   ]
  },
  {
   "cell_type": "code",
   "execution_count": 11,
   "metadata": {
    "collapsed": false,
    "deletable": true,
    "editable": true,
    "scrolled": true
   },
   "outputs": [
    {
     "data": {
      "text/html": [
       "<div>\n",
       "<table border=\"1\" class=\"dataframe\">\n",
       "  <thead>\n",
       "    <tr style=\"text-align: right;\">\n",
       "      <th></th>\n",
       "      <th>shoppingOrder</th>\n",
       "      <th>channel</th>\n",
       "      <th>quantity</th>\n",
       "      <th>weekdayInteger</th>\n",
       "      <th>productID</th>\n",
       "      <th>storeID</th>\n",
       "    </tr>\n",
       "    <tr>\n",
       "      <th>customerID</th>\n",
       "      <th></th>\n",
       "      <th></th>\n",
       "      <th></th>\n",
       "      <th></th>\n",
       "      <th></th>\n",
       "      <th></th>\n",
       "    </tr>\n",
       "  </thead>\n",
       "  <tbody>\n",
       "    <tr>\n",
       "      <th>f786cf621e94ee84b497d049d13c56074ad82f408e652e5bd98017372ea98153</th>\n",
       "      <td>18</td>\n",
       "      <td>STR</td>\n",
       "      <td>6</td>\n",
       "      <td>5</td>\n",
       "      <td>ff2a5e99abedfbbcac0cce0952fa2613e370eb915c6202...</td>\n",
       "      <td>9123ae8dce2dd538b2418d75463bab5e54131b95908caa...</td>\n",
       "    </tr>\n",
       "    <tr>\n",
       "      <th>f1307bde3f4f0f6b63c4593bb794668513e9e13b15a9e4b33bc268477c17db0d</th>\n",
       "      <td>2</td>\n",
       "      <td>STR</td>\n",
       "      <td>2</td>\n",
       "      <td>4</td>\n",
       "      <td>ff65dadf28bd5675d9d98b3721d41f0ae34cad253d4cf5...</td>\n",
       "      <td>c5422e8ad47366dc4a45968054a9629c875482a22c2f42...</td>\n",
       "    </tr>\n",
       "    <tr>\n",
       "      <th>97894c0cd38d16e6580b1c69336f73ae518c7afdae430e4ec9da99292136951b</th>\n",
       "      <td>10</td>\n",
       "      <td>STR</td>\n",
       "      <td>2</td>\n",
       "      <td>6</td>\n",
       "      <td>ffc162556543587ce0954986b964b74b0230843a634f63...</td>\n",
       "      <td>cc81aa871c75547b0b23f8f1e77d6b0f5062702bde5363...</td>\n",
       "    </tr>\n",
       "    <tr>\n",
       "      <th>6ddc37c14ec4a736d7dcec7b6a633db385bdad9fd34b4a22db27f88ca06a12fb</th>\n",
       "      <td>4</td>\n",
       "      <td>STR</td>\n",
       "      <td>2</td>\n",
       "      <td>6</td>\n",
       "      <td>f77760cf294dfd434eeae32682e19a657ee1067f1a55e1...</td>\n",
       "      <td>cc81aa871c75547b0b23f8f1e77d6b0f5062702bde5363...</td>\n",
       "    </tr>\n",
       "    <tr>\n",
       "      <th>b0aa61ecfd9c8214455d88b6689c1bf1f9c79d12f2878228c8d3e7d848e76e8d</th>\n",
       "      <td>4</td>\n",
       "      <td>STR</td>\n",
       "      <td>5</td>\n",
       "      <td>6</td>\n",
       "      <td>ff2df4b580cd4463b064188a59f2cf719a277712dd46b2...</td>\n",
       "      <td>244fdfacd3e3046ec05ebe18d93653d535604a54cd1373...</td>\n",
       "    </tr>\n",
       "  </tbody>\n",
       "</table>\n",
       "</div>"
      ],
      "text/latex": [
       "\\begin{tabular}{lrlrrll}\n",
       "\\toprule\n",
       "{} &  shoppingOrder & channel &  quantity &  weekdayInteger &                                          productID &                                            storeID \\\\\n",
       "customerID                                         &                &         &           &                 &                                                    &                                                    \\\\\n",
       "\\midrule\n",
       "f786cf621e94ee84b497d049d13c56074ad82f408e652e5... &             18 &     STR &         6 &               5 &  ff2a5e99abedfbbcac0cce0952fa2613e370eb915c6202... &  9123ae8dce2dd538b2418d75463bab5e54131b95908caa... \\\\\n",
       "f1307bde3f4f0f6b63c4593bb794668513e9e13b15a9e4b... &              2 &     STR &         2 &               4 &  ff65dadf28bd5675d9d98b3721d41f0ae34cad253d4cf5... &  c5422e8ad47366dc4a45968054a9629c875482a22c2f42... \\\\\n",
       "97894c0cd38d16e6580b1c69336f73ae518c7afdae430e4... &             10 &     STR &         2 &               6 &  ffc162556543587ce0954986b964b74b0230843a634f63... &  cc81aa871c75547b0b23f8f1e77d6b0f5062702bde5363... \\\\\n",
       "6ddc37c14ec4a736d7dcec7b6a633db385bdad9fd34b4a2... &              4 &     STR &         2 &               6 &  f77760cf294dfd434eeae32682e19a657ee1067f1a55e1... &  cc81aa871c75547b0b23f8f1e77d6b0f5062702bde5363... \\\\\n",
       "b0aa61ecfd9c8214455d88b6689c1bf1f9c79d12f287822... &              4 &     STR &         5 &               6 &  ff2df4b580cd4463b064188a59f2cf719a277712dd46b2... &  244fdfacd3e3046ec05ebe18d93653d535604a54cd1373... \\\\\n",
       "\\bottomrule\n",
       "\\end{tabular}\n"
      ],
      "text/plain": [
       "                                                    shoppingOrder channel  \\\n",
       "customerID                                                                  \n",
       "f786cf621e94ee84b497d049d13c56074ad82f408e652e5...             18     STR   \n",
       "f1307bde3f4f0f6b63c4593bb794668513e9e13b15a9e4b...              2     STR   \n",
       "97894c0cd38d16e6580b1c69336f73ae518c7afdae430e4...             10     STR   \n",
       "6ddc37c14ec4a736d7dcec7b6a633db385bdad9fd34b4a2...              4     STR   \n",
       "b0aa61ecfd9c8214455d88b6689c1bf1f9c79d12f287822...              4     STR   \n",
       "\n",
       "                                                    quantity  weekdayInteger  \\\n",
       "customerID                                                                     \n",
       "f786cf621e94ee84b497d049d13c56074ad82f408e652e5...         6               5   \n",
       "f1307bde3f4f0f6b63c4593bb794668513e9e13b15a9e4b...         2               4   \n",
       "97894c0cd38d16e6580b1c69336f73ae518c7afdae430e4...         2               6   \n",
       "6ddc37c14ec4a736d7dcec7b6a633db385bdad9fd34b4a2...         2               6   \n",
       "b0aa61ecfd9c8214455d88b6689c1bf1f9c79d12f287822...         5               6   \n",
       "\n",
       "                                                                                            productID  \\\n",
       "customerID                                                                                              \n",
       "f786cf621e94ee84b497d049d13c56074ad82f408e652e5...  ff2a5e99abedfbbcac0cce0952fa2613e370eb915c6202...   \n",
       "f1307bde3f4f0f6b63c4593bb794668513e9e13b15a9e4b...  ff65dadf28bd5675d9d98b3721d41f0ae34cad253d4cf5...   \n",
       "97894c0cd38d16e6580b1c69336f73ae518c7afdae430e4...  ffc162556543587ce0954986b964b74b0230843a634f63...   \n",
       "6ddc37c14ec4a736d7dcec7b6a633db385bdad9fd34b4a2...  f77760cf294dfd434eeae32682e19a657ee1067f1a55e1...   \n",
       "b0aa61ecfd9c8214455d88b6689c1bf1f9c79d12f287822...  ff2df4b580cd4463b064188a59f2cf719a277712dd46b2...   \n",
       "\n",
       "                                                                                              storeID  \n",
       "customerID                                                                                             \n",
       "f786cf621e94ee84b497d049d13c56074ad82f408e652e5...  9123ae8dce2dd538b2418d75463bab5e54131b95908caa...  \n",
       "f1307bde3f4f0f6b63c4593bb794668513e9e13b15a9e4b...  c5422e8ad47366dc4a45968054a9629c875482a22c2f42...  \n",
       "97894c0cd38d16e6580b1c69336f73ae518c7afdae430e4...  cc81aa871c75547b0b23f8f1e77d6b0f5062702bde5363...  \n",
       "6ddc37c14ec4a736d7dcec7b6a633db385bdad9fd34b4a2...  cc81aa871c75547b0b23f8f1e77d6b0f5062702bde5363...  \n",
       "b0aa61ecfd9c8214455d88b6689c1bf1f9c79d12f287822...  244fdfacd3e3046ec05ebe18d93653d535604a54cd1373...  "
      ]
     },
     "execution_count": 11,
     "metadata": {},
     "output_type": "execute_result"
    }
   ],
   "source": [
    "data.groupby(by='customerID').max().sort_values(\n",
    "    'shoppingOrder',\n",
    "    ascending=False).sample(5)"
   ]
  },
  {
   "cell_type": "markdown",
   "metadata": {
    "deletable": true,
    "editable": true
   },
   "source": [
    "### 1.2.4 Channel Grouping"
   ]
  },
  {
   "cell_type": "code",
   "execution_count": 12,
   "metadata": {
    "collapsed": false,
    "deletable": true,
    "editable": true
   },
   "outputs": [
    {
     "data": {
      "text/plain": [
       "STR    108904\n",
       "WEB     11863\n",
       "Name: channel, dtype: int64"
      ]
     },
     "execution_count": 12,
     "metadata": {},
     "output_type": "execute_result"
    }
   ],
   "source": [
    "data.channel.value_counts()"
   ]
  },
  {
   "cell_type": "markdown",
   "metadata": {
    "deletable": true,
    "editable": true
   },
   "source": [
    "Here we can se that there are almost 10 times more store purchases than there are web purchases."
   ]
  },
  {
   "cell_type": "code",
   "execution_count": 13,
   "metadata": {
    "collapsed": false,
    "deletable": true,
    "editable": true,
    "scrolled": false
   },
   "outputs": [
    {
     "data": {
      "text/plain": [
       "<matplotlib.figure.Figure at 0x10ba48d30>"
      ]
     },
     "metadata": {},
     "output_type": "display_data"
    },
    {
     "data": {
      "image/png": "[encoded data removed]",
      "text/plain": [
       "<matplotlib.figure.Figure at 0x10ba214e0>"
      ]
     },
     "metadata": {},
     "output_type": "display_data"
    }
   ],
   "source": [
    "plt.figure(figsize=(9,9),dpi=250)\n",
    "sns.pairplot(data, diag_kind='kde', hue='channel')\n",
    "plt.show()"
   ]
  },
  {
   "cell_type": "markdown",
   "metadata": {
    "deletable": true,
    "editable": true
   },
   "source": [
    "Here we can see the shape of the data with regards to the channel of the order are very similar."
   ]
  },
  {
   "cell_type": "markdown",
   "metadata": {
    "deletable": true,
    "editable": true
   },
   "source": [
    "### 1.2.5 Orders Grouping"
   ]
  },
  {
   "cell_type": "markdown",
   "metadata": {
    "deletable": true,
    "editable": true
   },
   "source": [
    "Given the structure of the raw data, there is no one column that can be aggregated against in order to count the number of orders in the dataset. In order to get the number of unique orders, the shoppingOrder and the customerID must be concatenated in order to produce an order specific key."
   ]
  },
  {
   "cell_type": "code",
   "execution_count": 14,
   "metadata": {
    "collapsed": false,
    "deletable": true,
    "editable": true
   },
   "outputs": [],
   "source": [
    "data['orderID']=data.loc[:,'shoppingOrder'].astype(str)+'-'+data.loc[:,'customerID']"
   ]
  },
  {
   "cell_type": "code",
   "execution_count": 15,
   "metadata": {
    "collapsed": false,
    "deletable": true,
    "editable": true
   },
   "outputs": [
    {
     "name": "stdout",
     "output_type": "stream",
     "text": [
      "Number of Orders: 11155\n"
     ]
    }
   ],
   "source": [
    "print(\"Number of Orders:\",len(set(data['orderID'])))"
   ]
  },
  {
   "cell_type": "code",
   "execution_count": 16,
   "metadata": {
    "collapsed": false,
    "deletable": true,
    "editable": true
   },
   "outputs": [
    {
     "data": {
      "image/png": "[encoded data removed]",
      "text/plain": [
       "<matplotlib.figure.Figure at 0x10b9fb860>"
      ]
     },
     "metadata": {},
     "output_type": "display_data"
    }
   ],
   "source": [
    "data.groupby(by='weekdayInteger').orderID.nunique().plot(kind='bar')\n",
    "plt.show()"
   ]
  },
  {
   "cell_type": "markdown",
   "metadata": {
    "deletable": true,
    "editable": true
   },
   "source": [
    "Here we can see that more orders take place on friday saturday and sunday. This makes sense and is expected."
   ]
  },
  {
   "cell_type": "markdown",
   "metadata": {
    "deletable": true,
    "editable": true
   },
   "source": [
    "### 1.2.6 Quality Checks"
   ]
  },
  {
   "cell_type": "markdown",
   "metadata": {
    "deletable": true,
    "editable": true
   },
   "source": [
    "The data is clean with regards to order numbers and the number of weekdays. \n",
    "\n",
    "The below code is to check if there are any customers that have had any one order assigned to multiple weekdays. This would be bad data as the assumption is made that an order can only occur on one day."
   ]
  },
  {
   "cell_type": "code",
   "execution_count": 17,
   "metadata": {
    "collapsed": false,
    "deletable": true,
    "editable": true,
    "scrolled": false
   },
   "outputs": [
    {
     "name": "stdout",
     "output_type": "stream",
     "text": [
      "There are 0 customers that failed the data quality check.\n",
      "[]\n"
     ]
    }
   ],
   "source": [
    "badData = []\n",
    "for customer in set(data.customerID):\n",
    "    for order in set(data[data.customerID==customer].shoppingOrder):\n",
    "        if len(set(\n",
    "            data[(data.customerID==customer)\n",
    "                 &(data.shoppingOrder==order)].weekdayInteger)) > 1:\n",
    "            badData.append((customer,\n",
    "                            order,\n",
    "                            set(data[\n",
    "                                (data.customerID==customer)\n",
    "                                &(data.shoppingOrder==order)].weekdayInteger)))\n",
    "            print(\"Customer:\",\n",
    "                  customer,\n",
    "                  \"Shopping Order:\",\n",
    "                  order, \"Weekdays:\",\n",
    "                  set(data[\n",
    "                      (data.customerID==customer)\n",
    "                      &(data.shoppingOrder==order)].weekdayInteger))\n",
    "            \n",
    "print('There are {} customers that failed the data quality check.'.format(len(badData)))\n",
    "print(badData)"
   ]
  },
  {
   "cell_type": "markdown",
   "metadata": {
    "collapsed": false,
    "deletable": true,
    "editable": true
   },
   "source": [
    "### 1.2.7 Repeated Products in Orders"
   ]
  },
  {
   "cell_type": "markdown",
   "metadata": {
    "deletable": true,
    "editable": true
   },
   "source": [
    "Here we can see how many orders a customer has included each product. We can add this to the end of the dataset to then use later as a feature. this number will remain constant accross all orders specific to customers and products."
   ]
  },
  {
   "cell_type": "code",
   "execution_count": 18,
   "metadata": {
    "collapsed": false,
    "deletable": true,
    "editable": true
   },
   "outputs": [],
   "source": [
    "repeatPurchase = data.pivot_table(\n",
    "    index=['customerID','productID'],\n",
    "    aggfunc=len)['shoppingOrder']"
   ]
  },
  {
   "cell_type": "code",
   "execution_count": 32,
   "metadata": {
    "collapsed": false,
    "deletable": true,
    "editable": true
   },
   "outputs": [
    {
     "data": {
      "text/html": [
       "<div>\n",
       "<table border=\"1\" class=\"dataframe\">\n",
       "  <thead>\n",
       "    <tr style=\"text-align: right;\">\n",
       "      <th></th>\n",
       "      <th></th>\n",
       "      <th>shoppingOrder</th>\n",
       "    </tr>\n",
       "    <tr>\n",
       "      <th>customerID</th>\n",
       "      <th>productID</th>\n",
       "      <th></th>\n",
       "    </tr>\n",
       "  </thead>\n",
       "  <tbody>\n",
       "    <tr>\n",
       "      <th rowspan=\"5\" valign=\"top\">0072c7c58d8c992912abf1a5879094f3e291e09491fd9b67806dacdb27fce700</th>\n",
       "      <th>0891ba4e663a73978ee81cb3006ecc1e23997f0b1138430a7cd9671c2a411219</th>\n",
       "      <td>1</td>\n",
       "    </tr>\n",
       "    <tr>\n",
       "      <th>5171c79c601f67714c94682c5ee88265c2229d670a33408a9f9a1d2298fee046</th>\n",
       "      <td>1</td>\n",
       "    </tr>\n",
       "    <tr>\n",
       "      <th>68dbb52c42d24b2aad4e1696d24a9b5a757ebc2983a159a0c2bfaafafc2c47bd</th>\n",
       "      <td>2</td>\n",
       "    </tr>\n",
       "    <tr>\n",
       "      <th>8f0ef12d454c27df6a17465319c5303a7155541cceb0c976bcdf4dea9b665513</th>\n",
       "      <td>1</td>\n",
       "    </tr>\n",
       "    <tr>\n",
       "      <th>b2ba2185b1b07a4f60816d81a868a7d7cd176088b6e1a789e409e39543a8550a</th>\n",
       "      <td>1</td>\n",
       "    </tr>\n",
       "  </tbody>\n",
       "</table>\n",
       "</div>"
      ],
      "text/latex": [
       "\\begin{tabular}{llr}\n",
       "\\toprule\n",
       "                                                                 &                                                                  &  shoppingOrder \\\\\n",
       "customerID & productID &                \\\\\n",
       "\\midrule\n",
       "0072c7c58d8c992912abf1a5879094f3e291e09491fd9b67806dacdb27fce700 & 0891ba4e663a73978ee81cb3006ecc1e23997f0b1138430a7cd9671c2a411219 &              1 \\\\\n",
       "                                                                 & 5171c79c601f67714c94682c5ee88265c2229d670a33408a9f9a1d2298fee046 &              1 \\\\\n",
       "                                                                 & 68dbb52c42d24b2aad4e1696d24a9b5a757ebc2983a159a0c2bfaafafc2c47bd &              2 \\\\\n",
       "                                                                 & 8f0ef12d454c27df6a17465319c5303a7155541cceb0c976bcdf4dea9b665513 &              1 \\\\\n",
       "                                                                 & b2ba2185b1b07a4f60816d81a868a7d7cd176088b6e1a789e409e39543a8550a &              1 \\\\\n",
       "\\bottomrule\n",
       "\\end{tabular}\n"
      ],
      "text/plain": [
       "                                                                                                       shoppingOrder\n",
       "customerID                                         productID                                                        \n",
       "0072c7c58d8c992912abf1a5879094f3e291e09491fd9b6... 0891ba4e663a73978ee81cb3006ecc1e23997f0b1138430...              1\n",
       "                                                   5171c79c601f67714c94682c5ee88265c2229d670a33408...              1\n",
       "                                                   68dbb52c42d24b2aad4e1696d24a9b5a757ebc2983a159a...              2\n",
       "                                                   8f0ef12d454c27df6a17465319c5303a7155541cceb0c97...              1\n",
       "                                                   b2ba2185b1b07a4f60816d81a868a7d7cd176088b6e1a78...              1"
      ]
     },
     "execution_count": 32,
     "metadata": {},
     "output_type": "execute_result"
    }
   ],
   "source": [
    "pd.DataFrame(repeatPurchase).head()"
   ]
  },
  {
   "cell_type": "code",
   "execution_count": 20,
   "metadata": {
    "collapsed": false,
    "deletable": true,
    "editable": true
   },
   "outputs": [],
   "source": [
    "data['ordersRepeated'] = data.loc[:,['customerID','productID']].apply(\n",
    "    lambda row: repeatPurchase[(row[0],row[1])],axis=1)"
   ]
  },
  {
   "cell_type": "markdown",
   "metadata": {
    "deletable": true,
    "editable": true
   },
   "source": [
    "### 1.2.8 Total Quantity of Product Purchased "
   ]
  },
  {
   "cell_type": "markdown",
   "metadata": {
    "deletable": true,
    "editable": true
   },
   "source": [
    "Below we do a similar thing to the orders repeated except we total quantity of the product that has been purchased and append this to the main dataset for potential later use."
   ]
  },
  {
   "cell_type": "code",
   "execution_count": 21,
   "metadata": {
    "collapsed": false,
    "deletable": true,
    "editable": true
   },
   "outputs": [],
   "source": [
    "totalProductPurchase = data.pivot_table(\n",
    "    index=['customerID','productID'],\n",
    "    aggfunc=sum)['quantity']"
   ]
  },
  {
   "cell_type": "code",
   "execution_count": 31,
   "metadata": {
    "collapsed": false,
    "deletable": true,
    "editable": true
   },
   "outputs": [
    {
     "data": {
      "text/html": [
       "<div>\n",
       "<table border=\"1\" class=\"dataframe\">\n",
       "  <thead>\n",
       "    <tr style=\"text-align: right;\">\n",
       "      <th></th>\n",
       "      <th></th>\n",
       "      <th>quantity</th>\n",
       "    </tr>\n",
       "    <tr>\n",
       "      <th>customerID</th>\n",
       "      <th>productID</th>\n",
       "      <th></th>\n",
       "    </tr>\n",
       "  </thead>\n",
       "  <tbody>\n",
       "    <tr>\n",
       "      <th rowspan=\"5\" valign=\"top\">0072c7c58d8c992912abf1a5879094f3e291e09491fd9b67806dacdb27fce700</th>\n",
       "      <th>0891ba4e663a73978ee81cb3006ecc1e23997f0b1138430a7cd9671c2a411219</th>\n",
       "      <td>1</td>\n",
       "    </tr>\n",
       "    <tr>\n",
       "      <th>5171c79c601f67714c94682c5ee88265c2229d670a33408a9f9a1d2298fee046</th>\n",
       "      <td>1</td>\n",
       "    </tr>\n",
       "    <tr>\n",
       "      <th>68dbb52c42d24b2aad4e1696d24a9b5a757ebc2983a159a0c2bfaafafc2c47bd</th>\n",
       "      <td>3</td>\n",
       "    </tr>\n",
       "    <tr>\n",
       "      <th>8f0ef12d454c27df6a17465319c5303a7155541cceb0c976bcdf4dea9b665513</th>\n",
       "      <td>1</td>\n",
       "    </tr>\n",
       "    <tr>\n",
       "      <th>b2ba2185b1b07a4f60816d81a868a7d7cd176088b6e1a789e409e39543a8550a</th>\n",
       "      <td>1</td>\n",
       "    </tr>\n",
       "  </tbody>\n",
       "</table>\n",
       "</div>"
      ],
      "text/latex": [
       "\\begin{tabular}{llr}\n",
       "\\toprule\n",
       "                                                                 &                                                                  &  quantity \\\\\n",
       "customerID & productID &           \\\\\n",
       "\\midrule\n",
       "0072c7c58d8c992912abf1a5879094f3e291e09491fd9b67806dacdb27fce700 & 0891ba4e663a73978ee81cb3006ecc1e23997f0b1138430a7cd9671c2a411219 &         1 \\\\\n",
       "                                                                 & 5171c79c601f67714c94682c5ee88265c2229d670a33408a9f9a1d2298fee046 &         1 \\\\\n",
       "                                                                 & 68dbb52c42d24b2aad4e1696d24a9b5a757ebc2983a159a0c2bfaafafc2c47bd &         3 \\\\\n",
       "                                                                 & 8f0ef12d454c27df6a17465319c5303a7155541cceb0c976bcdf4dea9b665513 &         1 \\\\\n",
       "                                                                 & b2ba2185b1b07a4f60816d81a868a7d7cd176088b6e1a789e409e39543a8550a &         1 \\\\\n",
       "\\bottomrule\n",
       "\\end{tabular}\n"
      ],
      "text/plain": [
       "                                                                                                       quantity\n",
       "customerID                                         productID                                                   \n",
       "0072c7c58d8c992912abf1a5879094f3e291e09491fd9b6... 0891ba4e663a73978ee81cb3006ecc1e23997f0b1138430...         1\n",
       "                                                   5171c79c601f67714c94682c5ee88265c2229d670a33408...         1\n",
       "                                                   68dbb52c42d24b2aad4e1696d24a9b5a757ebc2983a159a...         3\n",
       "                                                   8f0ef12d454c27df6a17465319c5303a7155541cceb0c97...         1\n",
       "                                                   b2ba2185b1b07a4f60816d81a868a7d7cd176088b6e1a78...         1"
      ]
     },
     "execution_count": 31,
     "metadata": {},
     "output_type": "execute_result"
    }
   ],
   "source": [
    "pd.DataFrame(totalProductPurchase).head()"
   ]
  },
  {
   "cell_type": "code",
   "execution_count": 23,
   "metadata": {
    "collapsed": true,
    "deletable": true,
    "editable": true
   },
   "outputs": [],
   "source": [
    "data['totalProductPurchase'] = data.loc[:,['customerID','productID']].apply(\n",
    "    lambda row: totalProductPurchase[(row[0],row[1])],\n",
    "    axis=1)"
   ]
  },
  {
   "cell_type": "markdown",
   "metadata": {
    "deletable": true,
    "editable": true
   },
   "source": [
    "### 1.2.9 Within Last Order"
   ]
  },
  {
   "cell_type": "markdown",
   "metadata": {
    "deletable": true,
    "editable": true
   },
   "source": [
    "Here We label each row with a boolean value indicating whether or not the product was purchased in the last one and two orders. A custom function below is used to calculate this."
   ]
  },
  {
   "cell_type": "code",
   "execution_count": 24,
   "metadata": {
    "collapsed": false,
    "deletable": true,
    "editable": true
   },
   "outputs": [],
   "source": [
    "previousOrder = pd.DataFrame(data.pivot_table(\n",
    "    index=['customerID','productID','shoppingOrder'],\n",
    "    aggfunc=sum)['quantity'])"
   ]
  },
  {
   "cell_type": "code",
   "execution_count": 30,
   "metadata": {
    "collapsed": false,
    "deletable": true,
    "editable": true
   },
   "outputs": [
    {
     "data": {
      "text/html": [
       "<div>\n",
       "<table border=\"1\" class=\"dataframe\">\n",
       "  <thead>\n",
       "    <tr style=\"text-align: right;\">\n",
       "      <th></th>\n",
       "      <th></th>\n",
       "      <th></th>\n",
       "      <th>quantity</th>\n",
       "    </tr>\n",
       "    <tr>\n",
       "      <th>customerID</th>\n",
       "      <th>productID</th>\n",
       "      <th>shoppingOrder</th>\n",
       "      <th></th>\n",
       "    </tr>\n",
       "  </thead>\n",
       "  <tbody>\n",
       "    <tr>\n",
       "      <th rowspan=\"5\" valign=\"top\">0072c7c58d8c992912abf1a5879094f3e291e09491fd9b67806dacdb27fce700</th>\n",
       "      <th>0891ba4e663a73978ee81cb3006ecc1e23997f0b1138430a7cd9671c2a411219</th>\n",
       "      <th>2</th>\n",
       "      <td>1</td>\n",
       "    </tr>\n",
       "    <tr>\n",
       "      <th>5171c79c601f67714c94682c5ee88265c2229d670a33408a9f9a1d2298fee046</th>\n",
       "      <th>1</th>\n",
       "      <td>1</td>\n",
       "    </tr>\n",
       "    <tr>\n",
       "      <th rowspan=\"2\" valign=\"top\">68dbb52c42d24b2aad4e1696d24a9b5a757ebc2983a159a0c2bfaafafc2c47bd</th>\n",
       "      <th>2</th>\n",
       "      <td>2</td>\n",
       "    </tr>\n",
       "    <tr>\n",
       "      <th>4</th>\n",
       "      <td>1</td>\n",
       "    </tr>\n",
       "    <tr>\n",
       "      <th>8f0ef12d454c27df6a17465319c5303a7155541cceb0c976bcdf4dea9b665513</th>\n",
       "      <th>1</th>\n",
       "      <td>1</td>\n",
       "    </tr>\n",
       "  </tbody>\n",
       "</table>\n",
       "</div>"
      ],
      "text/latex": [
       "\\begin{tabular}{lllr}\n",
       "\\toprule\n",
       "                                                                 &                                                                  &    &  quantity \\\\\n",
       "customerID & productID & shoppingOrder &           \\\\\n",
       "\\midrule\n",
       "0072c7c58d8c992912abf1a5879094f3e291e09491fd9b67806dacdb27fce700 & 0891ba4e663a73978ee81cb3006ecc1e23997f0b1138430a7cd9671c2a411219 & 2  &         1 \\\\\n",
       "                                                                 & 5171c79c601f67714c94682c5ee88265c2229d670a33408a9f9a1d2298fee046 & 1  &         1 \\\\\n",
       "                                                                 & 68dbb52c42d24b2aad4e1696d24a9b5a757ebc2983a159a0c2bfaafafc2c47bd & 2  &         2 \\\\\n",
       "                                                                 &                                                                  & 4  &         1 \\\\\n",
       "                                                                 & 8f0ef12d454c27df6a17465319c5303a7155541cceb0c976bcdf4dea9b665513 & 1  &         1 \\\\\n",
       "\\bottomrule\n",
       "\\end{tabular}\n"
      ],
      "text/plain": [
       "                                                                                                                     quantity\n",
       "customerID                                         productID                                          shoppingOrder          \n",
       "0072c7c58d8c992912abf1a5879094f3e291e09491fd9b6... 0891ba4e663a73978ee81cb3006ecc1e23997f0b1138430... 2                     1\n",
       "                                                   5171c79c601f67714c94682c5ee88265c2229d670a33408... 1                     1\n",
       "                                                   68dbb52c42d24b2aad4e1696d24a9b5a757ebc2983a159a... 2                     2\n",
       "                                                                                                      4                     1\n",
       "                                                   8f0ef12d454c27df6a17465319c5303a7155541cceb0c97... 1                     1"
      ]
     },
     "execution_count": 30,
     "metadata": {},
     "output_type": "execute_result"
    }
   ],
   "source": [
    "previousOrder.head()"
   ]
  },
  {
   "cell_type": "code",
   "execution_count": 26,
   "metadata": {
    "collapsed": false,
    "deletable": true,
    "editable": true
   },
   "outputs": [],
   "source": [
    "def previousOrderFucntion(row,x):\n",
    "    try:\n",
    "        return bool(\n",
    "            previousOrder.get_value(\n",
    "                index=(row[0],row[1],row[2]-x),\n",
    "                col='quantity'))\n",
    "    except:\n",
    "        return bool(0)"
   ]
  },
  {
   "cell_type": "code",
   "execution_count": 27,
   "metadata": {
    "collapsed": false,
    "deletable": true,
    "editable": true
   },
   "outputs": [],
   "source": [
    "data['productWithinLastOrder'] = data.loc[:,['customerID','productID','shoppingOrder']].apply(\n",
    "    lambda row: previousOrderFucntion(row,1),\n",
    "    axis=1)\n",
    "data['productWithinLast2Orders'] = data.loc[:,['customerID','productID','shoppingOrder']].apply(\n",
    "    lambda row: previousOrderFucntion(row,2),\n",
    "    axis=1)"
   ]
  },
  {
   "cell_type": "markdown",
   "metadata": {
    "deletable": true,
    "editable": true
   },
   "source": [
    "## 1.3 Export"
   ]
  },
  {
   "cell_type": "markdown",
   "metadata": {
    "deletable": true,
    "editable": true
   },
   "source": [
    "Here we will export our data into the next Notebook which will be used to generate new datasets which we will use in our analyses."
   ]
  },
  {
   "cell_type": "code",
   "execution_count": 28,
   "metadata": {
    "collapsed": false,
    "deletable": true,
    "editable": true
   },
   "outputs": [
    {
     "data": {
      "text/html": [
       "<div>\n",
       "<table border=\"1\" class=\"dataframe\">\n",
       "  <thead>\n",
       "    <tr style=\"text-align: right;\">\n",
       "      <th></th>\n",
       "      <th>shoppingOrder</th>\n",
       "      <th>channel</th>\n",
       "      <th>quantity</th>\n",
       "      <th>customerID</th>\n",
       "      <th>weekdayInteger</th>\n",
       "      <th>productID</th>\n",
       "      <th>storeID</th>\n",
       "      <th>orderID</th>\n",
       "      <th>ordersRepeated</th>\n",
       "      <th>totalProductPurchase</th>\n",
       "      <th>productWithinLastOrder</th>\n",
       "      <th>productWithinLast2Orders</th>\n",
       "    </tr>\n",
       "  </thead>\n",
       "  <tbody>\n",
       "    <tr>\n",
       "      <th>0</th>\n",
       "      <td>3</td>\n",
       "      <td>STR</td>\n",
       "      <td>2</td>\n",
       "      <td>b750f55d85bdac831175b4ece10033550c973e82503694...</td>\n",
       "      <td>4</td>\n",
       "      <td>086f5af48d6f7fac1357083454e346d2df02c5156241ee...</td>\n",
       "      <td>c5422e8ad47366dc4a45968054a9629c875482a22c2f42...</td>\n",
       "      <td>3-b750f55d85bdac831175b4ece10033550c973e825036...</td>\n",
       "      <td>1</td>\n",
       "      <td>2</td>\n",
       "      <td>False</td>\n",
       "      <td>False</td>\n",
       "    </tr>\n",
       "    <tr>\n",
       "      <th>1</th>\n",
       "      <td>3</td>\n",
       "      <td>STR</td>\n",
       "      <td>1</td>\n",
       "      <td>b750f55d85bdac831175b4ece10033550c973e82503694...</td>\n",
       "      <td>4</td>\n",
       "      <td>8981a704b6bbaa5905426856431e9982ea7d8b3e16a0d7...</td>\n",
       "      <td>8b5b99fba4cb7bdb35a45b23d121c4442acaa8a6acaf42...</td>\n",
       "      <td>3-b750f55d85bdac831175b4ece10033550c973e825036...</td>\n",
       "      <td>3</td>\n",
       "      <td>3</td>\n",
       "      <td>False</td>\n",
       "      <td>True</td>\n",
       "    </tr>\n",
       "    <tr>\n",
       "      <th>2</th>\n",
       "      <td>3</td>\n",
       "      <td>STR</td>\n",
       "      <td>1</td>\n",
       "      <td>b750f55d85bdac831175b4ece10033550c973e82503694...</td>\n",
       "      <td>4</td>\n",
       "      <td>f2a050cc4c05b21e18bfb12d83bc35a024a8ef3421b973...</td>\n",
       "      <td>8b5b99fba4cb7bdb35a45b23d121c4442acaa8a6acaf42...</td>\n",
       "      <td>3-b750f55d85bdac831175b4ece10033550c973e825036...</td>\n",
       "      <td>1</td>\n",
       "      <td>1</td>\n",
       "      <td>False</td>\n",
       "      <td>False</td>\n",
       "    </tr>\n",
       "    <tr>\n",
       "      <th>3</th>\n",
       "      <td>5</td>\n",
       "      <td>STR</td>\n",
       "      <td>1</td>\n",
       "      <td>b750f55d85bdac831175b4ece10033550c973e82503694...</td>\n",
       "      <td>1</td>\n",
       "      <td>ff7e584322603a95a820eef0c56d1da0bbf4b869b4e2d5...</td>\n",
       "      <td>a9661b8084a8e44309e042f2638be7582dd9480fddb708...</td>\n",
       "      <td>5-b750f55d85bdac831175b4ece10033550c973e825036...</td>\n",
       "      <td>1</td>\n",
       "      <td>1</td>\n",
       "      <td>False</td>\n",
       "      <td>False</td>\n",
       "    </tr>\n",
       "    <tr>\n",
       "      <th>4</th>\n",
       "      <td>5</td>\n",
       "      <td>STR</td>\n",
       "      <td>1</td>\n",
       "      <td>b750f55d85bdac831175b4ece10033550c973e82503694...</td>\n",
       "      <td>1</td>\n",
       "      <td>37686ea91f4b4002c080da122d40a693271c753ca63d7e...</td>\n",
       "      <td>a9661b8084a8e44309e042f2638be7582dd9480fddb708...</td>\n",
       "      <td>5-b750f55d85bdac831175b4ece10033550c973e825036...</td>\n",
       "      <td>1</td>\n",
       "      <td>1</td>\n",
       "      <td>False</td>\n",
       "      <td>False</td>\n",
       "    </tr>\n",
       "  </tbody>\n",
       "</table>\n",
       "</div>"
      ],
      "text/latex": [
       "\\begin{tabular}{lrlrlrlllrrll}\n",
       "\\toprule\n",
       "{} &  shoppingOrder & channel &  quantity &                                         customerID &  weekdayInteger &                                          productID &                                            storeID &                                            orderID &  ordersRepeated &  totalProductPurchase & productWithinLastOrder & productWithinLast2Orders \\\\\n",
       "\\midrule\n",
       "0 &              3 &     STR &         2 &  b750f55d85bdac831175b4ece10033550c973e82503694... &               4 &  086f5af48d6f7fac1357083454e346d2df02c5156241ee... &  c5422e8ad47366dc4a45968054a9629c875482a22c2f42... &  3-b750f55d85bdac831175b4ece10033550c973e825036... &               1 &                     2 &                  False &                    False \\\\\n",
       "1 &              3 &     STR &         1 &  b750f55d85bdac831175b4ece10033550c973e82503694... &               4 &  8981a704b6bbaa5905426856431e9982ea7d8b3e16a0d7... &  8b5b99fba4cb7bdb35a45b23d121c4442acaa8a6acaf42... &  3-b750f55d85bdac831175b4ece10033550c973e825036... &               3 &                     3 &                  False &                     True \\\\\n",
       "2 &              3 &     STR &         1 &  b750f55d85bdac831175b4ece10033550c973e82503694... &               4 &  f2a050cc4c05b21e18bfb12d83bc35a024a8ef3421b973... &  8b5b99fba4cb7bdb35a45b23d121c4442acaa8a6acaf42... &  3-b750f55d85bdac831175b4ece10033550c973e825036... &               1 &                     1 &                  False &                    False \\\\\n",
       "3 &              5 &     STR &         1 &  b750f55d85bdac831175b4ece10033550c973e82503694... &               1 &  ff7e584322603a95a820eef0c56d1da0bbf4b869b4e2d5... &  a9661b8084a8e44309e042f2638be7582dd9480fddb708... &  5-b750f55d85bdac831175b4ece10033550c973e825036... &               1 &                     1 &                  False &                    False \\\\\n",
       "4 &              5 &     STR &         1 &  b750f55d85bdac831175b4ece10033550c973e82503694... &               1 &  37686ea91f4b4002c080da122d40a693271c753ca63d7e... &  a9661b8084a8e44309e042f2638be7582dd9480fddb708... &  5-b750f55d85bdac831175b4ece10033550c973e825036... &               1 &                     1 &                  False &                    False \\\\\n",
       "\\bottomrule\n",
       "\\end{tabular}\n"
      ],
      "text/plain": [
       "   shoppingOrder channel  quantity  \\\n",
       "0              3     STR         2   \n",
       "1              3     STR         1   \n",
       "2              3     STR         1   \n",
       "3              5     STR         1   \n",
       "4              5     STR         1   \n",
       "\n",
       "                                          customerID  weekdayInteger  \\\n",
       "0  b750f55d85bdac831175b4ece10033550c973e82503694...               4   \n",
       "1  b750f55d85bdac831175b4ece10033550c973e82503694...               4   \n",
       "2  b750f55d85bdac831175b4ece10033550c973e82503694...               4   \n",
       "3  b750f55d85bdac831175b4ece10033550c973e82503694...               1   \n",
       "4  b750f55d85bdac831175b4ece10033550c973e82503694...               1   \n",
       "\n",
       "                                           productID  \\\n",
       "0  086f5af48d6f7fac1357083454e346d2df02c5156241ee...   \n",
       "1  8981a704b6bbaa5905426856431e9982ea7d8b3e16a0d7...   \n",
       "2  f2a050cc4c05b21e18bfb12d83bc35a024a8ef3421b973...   \n",
       "3  ff7e584322603a95a820eef0c56d1da0bbf4b869b4e2d5...   \n",
       "4  37686ea91f4b4002c080da122d40a693271c753ca63d7e...   \n",
       "\n",
       "                                             storeID  \\\n",
       "0  c5422e8ad47366dc4a45968054a9629c875482a22c2f42...   \n",
       "1  8b5b99fba4cb7bdb35a45b23d121c4442acaa8a6acaf42...   \n",
       "2  8b5b99fba4cb7bdb35a45b23d121c4442acaa8a6acaf42...   \n",
       "3  a9661b8084a8e44309e042f2638be7582dd9480fddb708...   \n",
       "4  a9661b8084a8e44309e042f2638be7582dd9480fddb708...   \n",
       "\n",
       "                                             orderID  ordersRepeated  \\\n",
       "0  3-b750f55d85bdac831175b4ece10033550c973e825036...               1   \n",
       "1  3-b750f55d85bdac831175b4ece10033550c973e825036...               3   \n",
       "2  3-b750f55d85bdac831175b4ece10033550c973e825036...               1   \n",
       "3  5-b750f55d85bdac831175b4ece10033550c973e825036...               1   \n",
       "4  5-b750f55d85bdac831175b4ece10033550c973e825036...               1   \n",
       "\n",
       "   totalProductPurchase productWithinLastOrder productWithinLast2Orders  \n",
       "0                     2                  False                    False  \n",
       "1                     3                  False                     True  \n",
       "2                     1                  False                    False  \n",
       "3                     1                  False                    False  \n",
       "4                     1                  False                    False  "
      ]
     },
     "execution_count": 28,
     "metadata": {},
     "output_type": "execute_result"
    }
   ],
   "source": [
    "data.head()"
   ]
  },
  {
   "cell_type": "code",
   "execution_count": 29,
   "metadata": {
    "collapsed": true,
    "deletable": true,
    "editable": true
   },
   "outputs": [],
   "source": [
    "data.to_csv('datasets/alteredRawData.csv')"
   ]
  },
  {
   "cell_type": "markdown",
   "metadata": {
    "deletable": true,
    "editable": true
   },
   "source": [
    "## END"
   ]
  }
 ],
 "metadata": {
  "kernelspec": {
   "display_name": "Python 3",
   "language": "python",
   "name": "python3"
  },
  "language_info": {
   "codemirror_mode": {
    "name": "ipython",
    "version": 3
   },
   "file_extension": ".py",
   "mimetype": "text/x-python",
   "name": "python",
   "nbconvert_exporter": "python",
   "pygments_lexer": "ipython3",
   "version": "3.5.2"
  }
 },
 "nbformat": 4,
 "nbformat_minor": 2
}
